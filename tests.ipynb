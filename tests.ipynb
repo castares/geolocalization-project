{
 "cells": [
  {
   "cell_type": "code",
   "execution_count": 1,
   "metadata": {},
   "outputs": [],
   "source": [
    "from pymongo import MongoClient\n",
    "def connectCollection(database, collection):\n",
    "    client = MongoClient()\n",
    "    db = client[database]\n",
    "    coll = db[collection]\n",
    "    return db, coll\n",
    "\n",
    "\n",
    "db, coll = connectCollection('companies','companies')\n",
    "db, offices = connectCollection('companies', 'offices')\n",
    "# db.create_collection(\"offices\")\n",
    "all_comps = list(coll.find())\n",
    "all_offices = list(offices.find())"
   ]
  },
  {
   "cell_type": "code",
   "execution_count": 83,
   "metadata": {},
   "outputs": [
    {
     "data": {
      "text/plain": [
       "{'_id': ObjectId('5dd13bf6c80571d59fb0a390'),\n",
       " 'type': 'Feature',\n",
       " 'geometry': {'type': 'Point', 'coordinates': [-122.394523, 37.764726]},\n",
       " 'properties': {'name': 'Digg',\n",
       "  'country': 'USA',\n",
       "  'company_money_raised': '$45M',\n",
       "  'foundation_year': 2004}}"
      ]
     },
     "execution_count": 83,
     "metadata": {},
     "output_type": "execute_result"
    }
   ],
   "source": [
    "offices[0]"
   ]
  },
  {
   "cell_type": "code",
   "execution_count": 41,
   "metadata": {},
   "outputs": [
    {
     "data": {
      "text/plain": [
       "{'_id': ObjectId('5dd13bf7c80571d59fb0ac42'),\n",
       " 'type': 'Feature',\n",
       " 'geometry': {'type': 'Point', 'coordinates': [-0.208979, 51.51819]},\n",
       " 'properties': {'name': 'Pixsta',\n",
       "  'country': 'GBR',\n",
       "  'company_money_raised': '£3M',\n",
       "  'foundation_year': 2010}}"
      ]
     },
     "execution_count": 41,
     "metadata": {},
     "output_type": "execute_result"
    }
   ],
   "source": [
    "target_offices = list(offices.find({\"$and\" : [{\"properties.country\":\"GBR\"}, {\"properties.foundation_year\": {\"$gt\": 2009}}, {\"properties.company_money_raised\" : {\"$gte\" :\"$1M\"}} ]}))\n",
    "geometry = target_offices[0]['geometry']\n",
    "target_offices[0]"
   ]
  },
  {
   "cell_type": "code",
   "execution_count": 39,
   "metadata": {},
   "outputs": [
    {
     "data": {
      "text/plain": [
       "[{'_id': ObjectId('5dd13bf7c80571d59fb0ac42'),\n",
       "  'type': 'Feature',\n",
       "  'geometry': {'type': 'Point', 'coordinates': [-0.208979, 51.51819]},\n",
       "  'properties': {'name': 'Pixsta',\n",
       "   'country': 'GBR',\n",
       "   'company_money_raised': '£3M',\n",
       "   'foundation_year': 2010}},\n",
       " {'_id': ObjectId('5dd13bf7c80571d59fb0b2c3'),\n",
       "  'type': 'Feature',\n",
       "  'geometry': {'type': 'Point', 'coordinates': [-1.574948, 54.703145]},\n",
       "  'properties': {'name': 'CompareAway',\n",
       "   'country': 'GBR',\n",
       "   'company_money_raised': '£500k',\n",
       "   'foundation_year': 2009}},\n",
       " {'_id': ObjectId('5dd13bf9c80571d59fb0c015'),\n",
       "  'type': 'Feature',\n",
       "  'geometry': {'type': 'Point', 'coordinates': [-0.1020265, 51.5196135]},\n",
       "  'properties': {'name': 'Shutl',\n",
       "   'country': 'GBR',\n",
       "   'company_money_raised': '£7.66M',\n",
       "   'foundation_year': 2009}}]"
      ]
     },
     "execution_count": 39,
     "metadata": {},
     "output_type": "execute_result"
    }
   ],
   "source": [
    "def target_offices(country_code, foundation_year, money_raised):\n",
    "        return list(offices.find({\n",
    "            \"$and\" : [{\n",
    "                \"properties.country\":f\"{country_code}\"}, {\n",
    "                    \"properties.foundation_year\": {\"$gt\": foundation_year}}, {\n",
    "                        \"properties.company_money_raised\" : {\"$gte\" :f\"${money_raised}M\"}\n",
    "                        }]\n",
    "                        } ))\n",
    "target_offices(\"GBR\", 2008, 1)"
   ]
  },
  {
   "cell_type": "code",
   "execution_count": 42,
   "metadata": {},
   "outputs": [
    {
     "data": {
      "text/plain": [
       "[{'_id': ObjectId('5dd13bf7c80571d59fb0ac42'),\n",
       "  'type': 'Feature',\n",
       "  'geometry': {'type': 'Point', 'coordinates': [-0.208979, 51.51819]},\n",
       "  'properties': {'name': 'Pixsta',\n",
       "   'country': 'GBR',\n",
       "   'company_money_raised': '£3M',\n",
       "   'foundation_year': 2010}},\n",
       " {'_id': ObjectId('5dd13bf6c80571d59fb0a44d'),\n",
       "  'type': 'Feature',\n",
       "  'geometry': {'type': 'Point', 'coordinates': [-0.205349, 51.514935]},\n",
       "  'properties': {'name': 'ConnectMeAnywhere',\n",
       "   'country': 'GBR',\n",
       "   'company_money_raised': '$0',\n",
       "   'foundation_year': 2006}},\n",
       " {'_id': ObjectId('5dd13bf7c80571d59fb0ab55'),\n",
       "  'type': 'Feature',\n",
       "  'geometry': {'type': 'Point', 'coordinates': [-0.209019, 51.5260475]},\n",
       "  'properties': {'name': 'SOSIUS',\n",
       "   'country': 'GBR',\n",
       "   'company_money_raised': '$0',\n",
       "   'foundation_year': 2007}},\n",
       " {'_id': ObjectId('5dd13bf9c80571d59fb0bfa5'),\n",
       "  'type': 'Feature',\n",
       "  'geometry': {'type': 'Point', 'coordinates': [-0.1855258, 51.5174054]},\n",
       "  'properties': {'name': 'Ruby50',\n",
       "   'country': 'GBR',\n",
       "   'company_money_raised': '$0',\n",
       "   'foundation_year': 2008}},\n",
       " {'_id': ObjectId('5dd13bf7c80571d59fb0b1a1'),\n",
       "  'type': 'Feature',\n",
       "  'geometry': {'type': 'Point', 'coordinates': [-0.184358, 51.51781]},\n",
       "  'properties': {'name': 'Dynamic50',\n",
       "   'country': 'GBR',\n",
       "   'company_money_raised': '$0',\n",
       "   'foundation_year': 2008}},\n",
       " {'_id': ObjectId('5dd13bf9c80571d59fb0be59'),\n",
       "  'type': 'Feature',\n",
       "  'geometry': {'type': 'Point', 'coordinates': [-0.2055081, 51.5359008]},\n",
       "  'properties': {'name': 'Filmed Media',\n",
       "   'country': 'GBR',\n",
       "   'company_money_raised': '$0',\n",
       "   'foundation_year': 2008}}]"
      ]
     },
     "execution_count": 42,
     "metadata": {},
     "output_type": "execute_result"
    }
   ],
   "source": [
    "def near_offices(geometry, max_distance=2000):\n",
    "    return list(offices.find({\"geometry.coordinates\": \n",
    "        {\"$near\" : \n",
    "             {\n",
    "            \"$geometry\": geometry ,\n",
    "            \"$maxDistance\": max_distance\n",
    "        }}\n",
    "    }))\n",
    "near_offices(geometry)"
   ]
  },
  {
   "cell_type": "code",
   "execution_count": 146,
   "metadata": {},
   "outputs": [
    {
     "data": {
      "text/plain": [
       "[]"
      ]
     },
     "execution_count": 146,
     "metadata": {},
     "output_type": "execute_result"
    }
   ],
   "source": [
    "def old_companies(offices, year):\n",
    "    old_companies = []\n",
    "    for office in offices: \n",
    "        if office['properties']['foundation_year'] < year:\n",
    "            old_companies.append(office)\n",
    "    return old_companies\n",
    "\n",
    "old_companies(near_offices(geometry), 2006)"
   ]
  },
  {
   "cell_type": "code",
   "execution_count": null,
   "metadata": {},
   "outputs": [],
   "source": []
  },
  {
   "cell_type": "markdown",
   "metadata": {},
   "source": [
    "### ------------"
   ]
  },
  {
   "cell_type": "code",
   "execution_count": 129,
   "metadata": {},
   "outputs": [
    {
     "data": {
      "text/plain": [
       "{}"
      ]
     },
     "execution_count": 129,
     "metadata": {},
     "output_type": "execute_result"
    }
   ],
   "source": [
    "loc"
   ]
  },
  {
   "cell_type": "code",
   "execution_count": 111,
   "metadata": {},
   "outputs": [],
   "source": [
    "def geocode_request(loc):\n",
    "    for e in comps:\n",
    "        for office in e['offices']:\n",
    "            latitude = office['latitude']\n",
    "            longitude = office['longitude']\n",
    "            if latitude == True and longitude == True: \n",
    "                url = f\"https://geocode.xyz/{latitude},{logitude}?geoit=JSON\"\n",
    "            res = requests.get(url)\n",
    "                if res.status_code == 200:\n",
    "                    print(res.url)\n",
    "            res.json()\n",
    "            return (data.get(\"latt\",0), data.get(\"longt\",0))\n",
    "        else:\n",
    "            raise ValueError(f\"Api returned {res.status_code}!=200\")"
   ]
  },
  {
   "cell_type": "code",
   "execution_count": 112,
   "metadata": {},
   "outputs": [
    {
     "name": "stdout",
     "output_type": "stream",
     "text": [
      "https://geocode.xyz/(51.51819,%20-0.208979)?geoit=JSON\n"
     ]
    },
    {
     "data": {
      "text/plain": [
       "('0.00000', '0.00000')"
      ]
     },
     "execution_count": 112,
     "metadata": {},
     "output_type": "execute_result"
    }
   ],
   "source": [
    "getCoordsFor(coords[0])"
   ]
  },
  {
   "cell_type": "code",
   "execution_count": 106,
   "metadata": {},
   "outputs": [],
   "source": [
    "import requests\n",
    "import folium\n",
    "\n",
    "# TODO: Center the map with the midde point of all coordinates\n",
    "# https://fiona.readthedocs.io/en/latest/manual.html\n",
    "def plotCoords(lat, long):\n",
    "    marker_coords = []\n",
    "    marker_coords.append(getCoordsFor(lat, long)) \n",
    "    m = folium.Map()\n",
    "    folium.Marker(lat, long).add_to(m)\n",
    "    return m"
   ]
  },
  {
   "cell_type": "code",
   "execution_count": 2,
   "metadata": {},
   "outputs": [],
   "source": [
    "import src.companiesdb as comp\n",
    "import src.google_api_requests\n",
    "db, offices = comp.connectCollection('companies', 'offices')"
   ]
  },
  {
   "cell_type": "code",
   "execution_count": 3,
   "metadata": {},
   "outputs": [],
   "source": [
    "target = comp.target_offices(offices, 'USA', 2009, 1)\n",
    "near_count = []\n",
    "old_count = []"
   ]
  },
  {
   "cell_type": "code",
   "execution_count": 4,
   "metadata": {},
   "outputs": [],
   "source": [
    "for e in target:\n",
    "    near = comp.near_offices(offices, e['geometry'])\n",
    "    near_count.append(len(near))\n",
    "    old = comp.old_companies(near, 2003)\n",
    "    old_count.append(len(old))"
   ]
  },
  {
   "cell_type": "code",
   "execution_count": 6,
   "metadata": {},
   "outputs": [
    {
     "name": "stdout",
     "output_type": "stream",
     "text": [
      "2013\n",
      "2000\n",
      "2000\n",
      "None\n",
      "1997\n",
      "2003\n",
      "1999\n",
      "None\n",
      "2002\n",
      "2007\n",
      "2001\n",
      "2007\n"
     ]
    }
   ],
   "source": [
    "for e in near:\n",
    "    print(e['properties'].get('foundation_year', ))"
   ]
  }
 ],
 "metadata": {
  "kernelspec": {
   "display_name": "Python 3",
   "language": "python",
   "name": "python3"
  },
  "language_info": {
   "codemirror_mode": {
    "name": "ipython",
    "version": 3
   },
   "file_extension": ".py",
   "mimetype": "text/x-python",
   "name": "python",
   "nbconvert_exporter": "python",
   "pygments_lexer": "ipython3",
   "version": "3.6.8"
  }
 },
 "nbformat": 4,
 "nbformat_minor": 2
}
