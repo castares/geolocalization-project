{
 "cells": [
  {
   "cell_type": "code",
   "execution_count": 86,
   "metadata": {},
   "outputs": [],
   "source": [
    "from pymongo import MongoClient\n",
    "def connectCollection(database, collection):\n",
    "    client = MongoClient()\n",
    "    db = client[database]\n",
    "    coll = db[collection]\n",
    "    return db, coll\n",
    "\n",
    "\n",
    "db, coll = connectCollection('companies','companies')\n",
    "db, offices = connectCollection('companies', 'offices')\n",
    "# db.create_collection(\"offices\")\n",
    "all_comps = list(coll.find())\n",
    "all_offices = list(offices.find())"
   ]
  },
  {
   "cell_type": "code",
   "execution_count": 83,
   "metadata": {},
   "outputs": [
    {
     "data": {
      "text/plain": [
       "{'_id': ObjectId('5dd13bf6c80571d59fb0a390'),\n",
       " 'type': 'Feature',\n",
       " 'geometry': {'type': 'Point', 'coordinates': [-122.394523, 37.764726]},\n",
       " 'properties': {'name': 'Digg',\n",
       "  'country': 'USA',\n",
       "  'company_money_raised': '$45M',\n",
       "  'foundation_year': 2004}}"
      ]
     },
     "execution_count": 83,
     "metadata": {},
     "output_type": "execute_result"
    }
   ],
   "source": [
    "offices[0]"
   ]
  },
  {
   "cell_type": "code",
   "execution_count": 122,
   "metadata": {},
   "outputs": [
    {
     "data": {
      "text/plain": [
       "{'_id': ObjectId('5dd13bf7c80571d59fb0ac42'),\n",
       " 'type': 'Feature',\n",
       " 'geometry': {'type': 'Point', 'coordinates': [-0.208979, 51.51819]},\n",
       " 'properties': {'name': 'Pixsta',\n",
       "  'country': 'GBR',\n",
       "  'company_money_raised': '£3M',\n",
       "  'foundation_year': 2010}}"
      ]
     },
     "execution_count": 122,
     "metadata": {},
     "output_type": "execute_result"
    }
   ],
   "source": [
    "target_offices = list(offices.find({\"$and\" : [{\"properties.country\":\"GBR\"}, {\"properties.foundation_year\": {\"$gt\": 2009}}, {\"properties.company_money_raised\" : {\"$gte\" :\"$1M\"}} ]}))\n",
    "geometry = target_offices[0]['geometry']\n",
    "target_offices[0]"
   ]
  },
  {
   "cell_type": "code",
   "execution_count": 135,
   "metadata": {},
   "outputs": [
    {
     "data": {
      "text/plain": [
       "[{'_id': ObjectId('5dd13bf7c80571d59fb0ac42'),\n",
       "  'type': 'Feature',\n",
       "  'geometry': {'type': 'Point', 'coordinates': [-0.208979, 51.51819]},\n",
       "  'properties': {'name': 'Pixsta',\n",
       "   'country': 'GBR',\n",
       "   'company_money_raised': '£3M',\n",
       "   'foundation_year': 2010}}]"
      ]
     },
     "execution_count": 135,
     "metadata": {},
     "output_type": "execute_result"
    }
   ],
   "source": [
    "def target_offices(country_code, foundation_year, money_raised):\n",
    "        return list(offices.find({\"$and\" : [{\"properties.country\":f\"{country_code}\"}, {\"properties.foundation_year\": {\"$gt\": foundation_year}}, {\"properties.company_money_raised\" : {\"$gte\" :f\"$money_raised{money_raised}M\"}} ]}))\n",
    "target_offices(\"GBR\", 2009, 1)"
   ]
  },
  {
   "cell_type": "code",
   "execution_count": 131,
   "metadata": {},
   "outputs": [],
   "source": [
    "near_offices = offices.find(\n",
    "    {\"geometry.coordinates\": \n",
    "        {\"$near\" : \n",
    "             {\n",
    "            \"$geometry\": geometry ,\n",
    "            \"$maxDistance\": 2000\n",
    "        }\n",
    "}\n",
    "})"
   ]
  },
  {
   "cell_type": "code",
   "execution_count": 132,
   "metadata": {},
   "outputs": [
    {
     "data": {
      "text/plain": [
       "[{'_id': ObjectId('5dd13bf7c80571d59fb0ac42'),\n",
       "  'type': 'Feature',\n",
       "  'geometry': {'type': 'Point', 'coordinates': [-0.208979, 51.51819]},\n",
       "  'properties': {'name': 'Pixsta',\n",
       "   'country': 'GBR',\n",
       "   'company_money_raised': '£3M',\n",
       "   'foundation_year': 2010}},\n",
       " {'_id': ObjectId('5dd13bf6c80571d59fb0a44d'),\n",
       "  'type': 'Feature',\n",
       "  'geometry': {'type': 'Point', 'coordinates': [-0.205349, 51.514935]},\n",
       "  'properties': {'name': 'ConnectMeAnywhere',\n",
       "   'country': 'GBR',\n",
       "   'company_money_raised': '$0',\n",
       "   'foundation_year': 2006}},\n",
       " {'_id': ObjectId('5dd13bf7c80571d59fb0ab55'),\n",
       "  'type': 'Feature',\n",
       "  'geometry': {'type': 'Point', 'coordinates': [-0.209019, 51.5260475]},\n",
       "  'properties': {'name': 'SOSIUS',\n",
       "   'country': 'GBR',\n",
       "   'company_money_raised': '$0',\n",
       "   'foundation_year': 2007}},\n",
       " {'_id': ObjectId('5dd13bf9c80571d59fb0bfa5'),\n",
       "  'type': 'Feature',\n",
       "  'geometry': {'type': 'Point', 'coordinates': [-0.1855258, 51.5174054]},\n",
       "  'properties': {'name': 'Ruby50',\n",
       "   'country': 'GBR',\n",
       "   'company_money_raised': '$0',\n",
       "   'foundation_year': 2008}},\n",
       " {'_id': ObjectId('5dd13bf7c80571d59fb0b1a1'),\n",
       "  'type': 'Feature',\n",
       "  'geometry': {'type': 'Point', 'coordinates': [-0.184358, 51.51781]},\n",
       "  'properties': {'name': 'Dynamic50',\n",
       "   'country': 'GBR',\n",
       "   'company_money_raised': '$0',\n",
       "   'foundation_year': 2008}},\n",
       " {'_id': ObjectId('5dd13bf9c80571d59fb0be59'),\n",
       "  'type': 'Feature',\n",
       "  'geometry': {'type': 'Point', 'coordinates': [-0.2055081, 51.5359008]},\n",
       "  'properties': {'name': 'Filmed Media',\n",
       "   'country': 'GBR',\n",
       "   'company_money_raised': '$0',\n",
       "   'foundation_year': 2008}}]"
      ]
     },
     "execution_count": 132,
     "metadata": {},
     "output_type": "execute_result"
    }
   ],
   "source": [
    "list(near_offices)"
   ]
  },
  {
   "cell_type": "markdown",
   "metadata": {},
   "source": [
    "### ------------"
   ]
  },
  {
   "cell_type": "code",
   "execution_count": 129,
   "metadata": {},
   "outputs": [
    {
     "data": {
      "text/plain": [
       "{}"
      ]
     },
     "execution_count": 129,
     "metadata": {},
     "output_type": "execute_result"
    }
   ],
   "source": [
    "loc"
   ]
  },
  {
   "cell_type": "code",
   "execution_count": 111,
   "metadata": {},
   "outputs": [],
   "source": [
    "def geocode_request(loc):\n",
    "    for e in comps:\n",
    "        for office in e['offices']:\n",
    "            latitude = office['latitude']\n",
    "            longitude = office['longitude']\n",
    "            if latitude == True and longitude == True: \n",
    "                url = f\"https://geocode.xyz/{latitude},{logitude}?geoit=JSON\"\n",
    "            res = requests.get(url)\n",
    "                if res.status_code == 200:\n",
    "                    print(res.url)\n",
    "            res.json()\n",
    "            return (data.get(\"latt\",0), data.get(\"longt\",0))\n",
    "        else:\n",
    "            raise ValueError(f\"Api returned {res.status_code}!=200\")"
   ]
  },
  {
   "cell_type": "code",
   "execution_count": 112,
   "metadata": {},
   "outputs": [
    {
     "name": "stdout",
     "output_type": "stream",
     "text": [
      "https://geocode.xyz/(51.51819,%20-0.208979)?geoit=JSON\n"
     ]
    },
    {
     "data": {
      "text/plain": [
       "('0.00000', '0.00000')"
      ]
     },
     "execution_count": 112,
     "metadata": {},
     "output_type": "execute_result"
    }
   ],
   "source": [
    "getCoordsFor(coords[0])"
   ]
  },
  {
   "cell_type": "code",
   "execution_count": 106,
   "metadata": {},
   "outputs": [],
   "source": [
    "import requests\n",
    "import folium\n",
    "\n",
    "# TODO: Center the map with the midde point of all coordinates\n",
    "# https://fiona.readthedocs.io/en/latest/manual.html\n",
    "def plotCoords(lat, long):\n",
    "    marker_coords = []\n",
    "    marker_coords.append(getCoordsFor(lat, long)) \n",
    "    m = folium.Map()\n",
    "    folium.Marker(lat, long).add_to(m)\n",
    "    return m"
   ]
  },
  {
   "cell_type": "code",
   "execution_count": 109,
   "metadata": {},
   "outputs": [
    {
     "name": "stdout",
     "output_type": "stream",
     "text": [
      "https://geocode.xyz/51.51819,-0.208979?geoit=JSON\n"
     ]
    },
    {
     "ename": "TypeError",
     "evalue": "Location should be a sized variable, for example a list or a tuple, instead got 51.51819 of type <class 'float'>.",
     "output_type": "error",
     "traceback": [
      "\u001b[0;31m---------------------------------------------------------------------------\u001b[0m",
      "\u001b[0;31mTypeError\u001b[0m                                 Traceback (most recent call last)",
      "\u001b[0;32m<ipython-input-109-032f1cd796a3>\u001b[0m in \u001b[0;36m<module>\u001b[0;34m\u001b[0m\n\u001b[0;32m----> 1\u001b[0;31m \u001b[0mplotCoords\u001b[0m\u001b[0;34m(\u001b[0m\u001b[0mcoords\u001b[0m\u001b[0;34m[\u001b[0m\u001b[0;36m0\u001b[0m\u001b[0;34m]\u001b[0m\u001b[0;34m[\u001b[0m\u001b[0;36m0\u001b[0m\u001b[0;34m]\u001b[0m\u001b[0;34m,\u001b[0m \u001b[0mcoords\u001b[0m\u001b[0;34m[\u001b[0m\u001b[0;36m0\u001b[0m\u001b[0;34m]\u001b[0m\u001b[0;34m[\u001b[0m\u001b[0;36m1\u001b[0m\u001b[0;34m]\u001b[0m\u001b[0;34m)\u001b[0m\u001b[0;34m\u001b[0m\u001b[0;34m\u001b[0m\u001b[0m\n\u001b[0m",
      "\u001b[0;32m<ipython-input-106-38d051a885cf>\u001b[0m in \u001b[0;36mplotCoords\u001b[0;34m(lat, long)\u001b[0m\n\u001b[1;32m      8\u001b[0m     \u001b[0mmarker_coords\u001b[0m\u001b[0;34m.\u001b[0m\u001b[0mappend\u001b[0m\u001b[0;34m(\u001b[0m\u001b[0mgetCoordsFor\u001b[0m\u001b[0;34m(\u001b[0m\u001b[0mlat\u001b[0m\u001b[0;34m,\u001b[0m \u001b[0mlong\u001b[0m\u001b[0;34m)\u001b[0m\u001b[0;34m)\u001b[0m\u001b[0;34m\u001b[0m\u001b[0;34m\u001b[0m\u001b[0m\n\u001b[1;32m      9\u001b[0m     \u001b[0mm\u001b[0m \u001b[0;34m=\u001b[0m \u001b[0mfolium\u001b[0m\u001b[0;34m.\u001b[0m\u001b[0mMap\u001b[0m\u001b[0;34m(\u001b[0m\u001b[0;34m)\u001b[0m\u001b[0;34m\u001b[0m\u001b[0;34m\u001b[0m\u001b[0m\n\u001b[0;32m---> 10\u001b[0;31m     \u001b[0mfolium\u001b[0m\u001b[0;34m.\u001b[0m\u001b[0mMarker\u001b[0m\u001b[0;34m(\u001b[0m\u001b[0mlat\u001b[0m\u001b[0;34m,\u001b[0m \u001b[0mlong\u001b[0m\u001b[0;34m)\u001b[0m\u001b[0;34m.\u001b[0m\u001b[0madd_to\u001b[0m\u001b[0;34m(\u001b[0m\u001b[0mm\u001b[0m\u001b[0;34m)\u001b[0m\u001b[0;34m\u001b[0m\u001b[0;34m\u001b[0m\u001b[0m\n\u001b[0m\u001b[1;32m     11\u001b[0m     \u001b[0;32mreturn\u001b[0m \u001b[0mm\u001b[0m\u001b[0;34m\u001b[0m\u001b[0;34m\u001b[0m\u001b[0m\n",
      "\u001b[0;32m~/.local/lib/python3.6/site-packages/folium/map.py\u001b[0m in \u001b[0;36m__init__\u001b[0;34m(self, location, popup, tooltip, icon, draggable, **kwargs)\u001b[0m\n\u001b[1;32m    275\u001b[0m         \u001b[0msuper\u001b[0m\u001b[0;34m(\u001b[0m\u001b[0mMarker\u001b[0m\u001b[0;34m,\u001b[0m \u001b[0mself\u001b[0m\u001b[0;34m)\u001b[0m\u001b[0;34m.\u001b[0m\u001b[0m__init__\u001b[0m\u001b[0;34m(\u001b[0m\u001b[0;34m)\u001b[0m\u001b[0;34m\u001b[0m\u001b[0;34m\u001b[0m\u001b[0m\n\u001b[1;32m    276\u001b[0m         \u001b[0mself\u001b[0m\u001b[0;34m.\u001b[0m\u001b[0m_name\u001b[0m \u001b[0;34m=\u001b[0m \u001b[0;34m'Marker'\u001b[0m\u001b[0;34m\u001b[0m\u001b[0;34m\u001b[0m\u001b[0m\n\u001b[0;32m--> 277\u001b[0;31m         \u001b[0mself\u001b[0m\u001b[0;34m.\u001b[0m\u001b[0mlocation\u001b[0m \u001b[0;34m=\u001b[0m \u001b[0mvalidate_location\u001b[0m\u001b[0;34m(\u001b[0m\u001b[0mlocation\u001b[0m\u001b[0;34m)\u001b[0m\u001b[0;34m\u001b[0m\u001b[0;34m\u001b[0m\u001b[0m\n\u001b[0m\u001b[1;32m    278\u001b[0m         self.options = parse_options(\n\u001b[1;32m    279\u001b[0m             \u001b[0mdraggable\u001b[0m\u001b[0;34m=\u001b[0m\u001b[0mdraggable\u001b[0m \u001b[0;32mor\u001b[0m \u001b[0;32mNone\u001b[0m\u001b[0;34m,\u001b[0m\u001b[0;34m\u001b[0m\u001b[0;34m\u001b[0m\u001b[0m\n",
      "\u001b[0;32m~/.local/lib/python3.6/site-packages/folium/utilities.py\u001b[0m in \u001b[0;36mvalidate_location\u001b[0;34m(location)\u001b[0m\n\u001b[1;32m     45\u001b[0m         raise TypeError('Location should be a sized variable, '\n\u001b[1;32m     46\u001b[0m                         \u001b[0;34m'for example a list or a tuple, instead got '\u001b[0m\u001b[0;34m\u001b[0m\u001b[0;34m\u001b[0m\u001b[0m\n\u001b[0;32m---> 47\u001b[0;31m                         '{!r} of type {}.'.format(location, type(location)))\n\u001b[0m\u001b[1;32m     48\u001b[0m     \u001b[0;32mif\u001b[0m \u001b[0mlen\u001b[0m\u001b[0;34m(\u001b[0m\u001b[0mlocation\u001b[0m\u001b[0;34m)\u001b[0m \u001b[0;34m!=\u001b[0m \u001b[0;36m2\u001b[0m\u001b[0;34m:\u001b[0m\u001b[0;34m\u001b[0m\u001b[0;34m\u001b[0m\u001b[0m\n\u001b[1;32m     49\u001b[0m         raise ValueError('Expected two (lat, lon) values for location, '\n",
      "\u001b[0;31mTypeError\u001b[0m: Location should be a sized variable, for example a list or a tuple, instead got 51.51819 of type <class 'float'>."
     ]
    }
   ],
   "source": [
    "plotCoords((coords[0][0], coords[0][1]))"
   ]
  }
 ],
 "metadata": {
  "kernelspec": {
   "display_name": "Python 3",
   "language": "python",
   "name": "python3"
  },
  "language_info": {
   "codemirror_mode": {
    "name": "ipython",
    "version": 3
   },
   "file_extension": ".py",
   "mimetype": "text/x-python",
   "name": "python",
   "nbconvert_exporter": "python",
   "pygments_lexer": "ipython3",
   "version": "3.6.8"
  }
 },
 "nbformat": 4,
 "nbformat_minor": 2
}
