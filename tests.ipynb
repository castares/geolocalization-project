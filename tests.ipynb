{
 "cells": [
  {
   "cell_type": "code",
   "execution_count": 86,
   "metadata": {},
   "outputs": [],
   "source": [
    "from pymongo import MongoClient\n",
    "def connectCollection(database, collection):\n",
    "    client = MongoClient()\n",
    "    db = client[database]\n",
    "    coll = db[collection]\n",
    "    return db, coll\n",
    "\n",
    "\n",
    "db, coll = connectCollection('companies','companies')\n",
    "db, offices = connectCollection('companies', 'offices')\n",
    "# db.create_collection(\"offices\")\n",
    "all_comps = list(coll.find())\n",
    "all_offices = list(offices.find())"
   ]
  },
  {
   "cell_type": "code",
   "execution_count": 83,
   "metadata": {},
   "outputs": [
    {
     "data": {
      "text/plain": [
       "{'_id': ObjectId('5dd13bf6c80571d59fb0a390'),\n",
       " 'type': 'Feature',\n",
       " 'geometry': {'type': 'Point', 'coordinates': [-122.394523, 37.764726]},\n",
       " 'properties': {'name': 'Digg',\n",
       "  'country': 'USA',\n",
       "  'company_money_raised': '$45M',\n",
       "  'foundation_year': 2004}}"
      ]
     },
     "execution_count": 83,
     "metadata": {},
     "output_type": "execute_result"
    }
   ],
   "source": [
    "offices[0]"
   ]
  },
  {
   "cell_type": "code",
   "execution_count": 122,
   "metadata": {},
   "outputs": [
    {
     "data": {
      "text/plain": [
       "{'_id': ObjectId('5dd13bf7c80571d59fb0ac42'),\n",
       " 'type': 'Feature',\n",
       " 'geometry': {'type': 'Point', 'coordinates': [-0.208979, 51.51819]},\n",
       " 'properties': {'name': 'Pixsta',\n",
       "  'country': 'GBR',\n",
       "  'company_money_raised': '£3M',\n",
       "  'foundation_year': 2010}}"
      ]
     },
     "execution_count": 122,
     "metadata": {},
     "output_type": "execute_result"
    }
   ],
   "source": [
    "target_offices = list(offices.find({\"$and\" : [{\"properties.country\":\"GBR\"}, {\"properties.foundation_year\": {\"$gt\": 2009}}, {\"properties.company_money_raised\" : {\"$gte\" :\"$1M\"}} ]}))\n",
    "geometry = target_offices[0]['geometry']\n",
    "target_offices[0]"
   ]
  },
  {
   "cell_type": "code",
   "execution_count": 138,
   "metadata": {},
   "outputs": [
    {
     "data": {
      "text/plain": [
       "[{'_id': ObjectId('5dd13bf7c80571d59fb0ac42'),\n",
       "  'type': 'Feature',\n",
       "  'geometry': {'type': 'Point', 'coordinates': [-0.208979, 51.51819]},\n",
       "  'properties': {'name': 'Pixsta',\n",
       "   'country': 'GBR',\n",
       "   'company_money_raised': '£3M',\n",
       "   'foundation_year': 2010}},\n",
       " {'_id': ObjectId('5dd13bf7c80571d59fb0b2c3'),\n",
       "  'type': 'Feature',\n",
       "  'geometry': {'type': 'Point', 'coordinates': [-1.574948, 54.703145]},\n",
       "  'properties': {'name': 'CompareAway',\n",
       "   'country': 'GBR',\n",
       "   'company_money_raised': '£500k',\n",
       "   'foundation_year': 2009}},\n",
       " {'_id': ObjectId('5dd13bf9c80571d59fb0c015'),\n",
       "  'type': 'Feature',\n",
       "  'geometry': {'type': 'Point', 'coordinates': [-0.1020265, 51.5196135]},\n",
       "  'properties': {'name': 'Shutl',\n",
       "   'country': 'GBR',\n",
       "   'company_money_raised': '£7.66M',\n",
       "   'foundation_year': 2009}}]"
      ]
     },
     "execution_count": 138,
     "metadata": {},
     "output_type": "execute_result"
    }
   ],
   "source": [
    "def target_offices(country_code, foundation_year, money_raised):\n",
    "        return list(offices.find({\n",
    "            \"$and\" : [{\n",
    "                \"properties.country\":f\"{country_code}\"}, {\n",
    "                    \"properties.foundation_year\": {\"$gt\": foundation_year}}, {\n",
    "                        \"properties.company_money_raised\" : {\"$gte\" :f\"${money_raised}M\"}\n",
    "                        }]\n",
    "                        } ))\n",
    "target_offices(\"GBR\", 2008, 1)"
   ]
  },
  {
   "cell_type": "code",
   "execution_count": 141,
   "metadata": {},
   "outputs": [
    {
     "data": {
      "text/plain": [
       "[{'_id': ObjectId('5dd13bf7c80571d59fb0ac42'),\n",
       "  'type': 'Feature',\n",
       "  'geometry': {'type': 'Point', 'coordinates': [-0.208979, 51.51819]},\n",
       "  'properties': {'name': 'Pixsta',\n",
       "   'country': 'GBR',\n",
       "   'company_money_raised': '£3M',\n",
       "   'foundation_year': 2010}},\n",
       " {'_id': ObjectId('5dd13bf6c80571d59fb0a44d'),\n",
       "  'type': 'Feature',\n",
       "  'geometry': {'type': 'Point', 'coordinates': [-0.205349, 51.514935]},\n",
       "  'properties': {'name': 'ConnectMeAnywhere',\n",
       "   'country': 'GBR',\n",
       "   'company_money_raised': '$0',\n",
       "   'foundation_year': 2006}},\n",
       " {'_id': ObjectId('5dd13bf7c80571d59fb0ab55'),\n",
       "  'type': 'Feature',\n",
       "  'geometry': {'type': 'Point', 'coordinates': [-0.209019, 51.5260475]},\n",
       "  'properties': {'name': 'SOSIUS',\n",
       "   'country': 'GBR',\n",
       "   'company_money_raised': '$0',\n",
       "   'foundation_year': 2007}},\n",
       " {'_id': ObjectId('5dd13bf9c80571d59fb0bfa5'),\n",
       "  'type': 'Feature',\n",
       "  'geometry': {'type': 'Point', 'coordinates': [-0.1855258, 51.5174054]},\n",
       "  'properties': {'name': 'Ruby50',\n",
       "   'country': 'GBR',\n",
       "   'company_money_raised': '$0',\n",
       "   'foundation_year': 2008}},\n",
       " {'_id': ObjectId('5dd13bf7c80571d59fb0b1a1'),\n",
       "  'type': 'Feature',\n",
       "  'geometry': {'type': 'Point', 'coordinates': [-0.184358, 51.51781]},\n",
       "  'properties': {'name': 'Dynamic50',\n",
       "   'country': 'GBR',\n",
       "   'company_money_raised': '$0',\n",
       "   'foundation_year': 2008}},\n",
       " {'_id': ObjectId('5dd13bf9c80571d59fb0be59'),\n",
       "  'type': 'Feature',\n",
       "  'geometry': {'type': 'Point', 'coordinates': [-0.2055081, 51.5359008]},\n",
       "  'properties': {'name': 'Filmed Media',\n",
       "   'country': 'GBR',\n",
       "   'company_money_raised': '$0',\n",
       "   'foundation_year': 2008}}]"
      ]
     },
     "execution_count": 141,
     "metadata": {},
     "output_type": "execute_result"
    }
   ],
   "source": [
    "def near_offices(geometry, max_distance=2000):\n",
    "    return list(offices.find({\"geometry.coordinates\": \n",
    "        {\"$near\" : \n",
    "             {\n",
    "            \"$geometry\": geometry ,\n",
    "            \"$maxDistance\": max_distance\n",
    "        }}\n",
    "    }))\n",
    "near_offices(geometry)"
   ]
  },
  {
   "cell_type": "code",
   "execution_count": 146,
   "metadata": {},
   "outputs": [
    {
     "data": {
      "text/plain": [
       "[]"
      ]
     },
     "execution_count": 146,
     "metadata": {},
     "output_type": "execute_result"
    }
   ],
   "source": [
    "def old_companies(offices, year):\n",
    "    old_companies = []\n",
    "    for office in offices: \n",
    "        if office['properties']['foundation_year'] < year:\n",
    "            old_companies.append(office)\n",
    "    return old_companies\n",
    "\n",
    "old_companies(near_offices(geometry), 2006)"
   ]
  },
  {
   "cell_type": "code",
   "execution_count": null,
   "metadata": {},
   "outputs": [],
   "source": []
  },
  {
   "cell_type": "markdown",
   "metadata": {},
   "source": [
    "### ------------"
   ]
  },
  {
   "cell_type": "code",
   "execution_count": 129,
   "metadata": {},
   "outputs": [
    {
     "data": {
      "text/plain": [
       "{}"
      ]
     },
     "execution_count": 129,
     "metadata": {},
     "output_type": "execute_result"
    }
   ],
   "source": [
    "loc"
   ]
  },
  {
   "cell_type": "code",
   "execution_count": 111,
   "metadata": {},
   "outputs": [],
   "source": [
    "def geocode_request(loc):\n",
    "    for e in comps:\n",
    "        for office in e['offices']:\n",
    "            latitude = office['latitude']\n",
    "            longitude = office['longitude']\n",
    "            if latitude == True and longitude == True: \n",
    "                url = f\"https://geocode.xyz/{latitude},{logitude}?geoit=JSON\"\n",
    "            res = requests.get(url)\n",
    "                if res.status_code == 200:\n",
    "                    print(res.url)\n",
    "            res.json()\n",
    "            return (data.get(\"latt\",0), data.get(\"longt\",0))\n",
    "        else:\n",
    "            raise ValueError(f\"Api returned {res.status_code}!=200\")"
   ]
  },
  {
   "cell_type": "code",
   "execution_count": 112,
   "metadata": {},
   "outputs": [
    {
     "name": "stdout",
     "output_type": "stream",
     "text": [
      "https://geocode.xyz/(51.51819,%20-0.208979)?geoit=JSON\n"
     ]
    },
    {
     "data": {
      "text/plain": [
       "('0.00000', '0.00000')"
      ]
     },
     "execution_count": 112,
     "metadata": {},
     "output_type": "execute_result"
    }
   ],
   "source": [
    "getCoordsFor(coords[0])"
   ]
  },
  {
   "cell_type": "code",
   "execution_count": 106,
   "metadata": {},
   "outputs": [],
   "source": [
    "import requests\n",
    "import folium\n",
    "\n",
    "# TODO: Center the map with the midde point of all coordinates\n",
    "# https://fiona.readthedocs.io/en/latest/manual.html\n",
    "def plotCoords(lat, long):\n",
    "    marker_coords = []\n",
    "    marker_coords.append(getCoordsFor(lat, long)) \n",
    "    m = folium.Map()\n",
    "    folium.Marker(lat, long).add_to(m)\n",
    "    return m"
   ]
  },
  {
   "cell_type": "code",
   "execution_count": 187,
   "metadata": {},
   "outputs": [
    {
     "ename": "JSONDecodeError",
     "evalue": "Expecting value: line 1 column 1 (char 0)",
     "output_type": "error",
     "traceback": [
      "\u001b[0;31m--------------------------------------------------------------------------\u001b[0m",
      "\u001b[0;31mJSONDecodeError\u001b[0m                          Traceback (most recent call last)",
      "\u001b[0;32m<ipython-input-187-9dd317136d71>\u001b[0m in \u001b[0;36m<module>\u001b[0;34m\u001b[0m\n\u001b[1;32m      1\u001b[0m \u001b[0;32mimport\u001b[0m \u001b[0mpandas\u001b[0m \u001b[0;32mas\u001b[0m \u001b[0mpd\u001b[0m\u001b[0;34m\u001b[0m\u001b[0;34m\u001b[0m\u001b[0m\n\u001b[1;32m      2\u001b[0m \u001b[0;32mimport\u001b[0m \u001b[0mjson\u001b[0m\u001b[0;34m\u001b[0m\u001b[0;34m\u001b[0m\u001b[0m\n\u001b[0;32m----> 3\u001b[0;31m \u001b[0mr\u001b[0m \u001b[0;34m=\u001b[0m \u001b[0mjson\u001b[0m\u001b[0;34m.\u001b[0m\u001b[0mload\u001b[0m\u001b[0;34m(\u001b[0m\u001b[0mopen\u001b[0m\u001b[0;34m(\u001b[0m\u001b[0;34m\"./src/answer3.json\"\u001b[0m\u001b[0;34m)\u001b[0m\u001b[0;34m)\u001b[0m\u001b[0;34m\u001b[0m\u001b[0;34m\u001b[0m\u001b[0m\n\u001b[0m",
      "\u001b[0;32m/usr/lib/python3.6/json/__init__.py\u001b[0m in \u001b[0;36mload\u001b[0;34m(fp, cls, object_hook, parse_float, parse_int, parse_constant, object_pairs_hook, **kw)\u001b[0m\n\u001b[1;32m    297\u001b[0m         \u001b[0mcls\u001b[0m\u001b[0;34m=\u001b[0m\u001b[0mcls\u001b[0m\u001b[0;34m,\u001b[0m \u001b[0mobject_hook\u001b[0m\u001b[0;34m=\u001b[0m\u001b[0mobject_hook\u001b[0m\u001b[0;34m,\u001b[0m\u001b[0;34m\u001b[0m\u001b[0;34m\u001b[0m\u001b[0m\n\u001b[1;32m    298\u001b[0m         \u001b[0mparse_float\u001b[0m\u001b[0;34m=\u001b[0m\u001b[0mparse_float\u001b[0m\u001b[0;34m,\u001b[0m \u001b[0mparse_int\u001b[0m\u001b[0;34m=\u001b[0m\u001b[0mparse_int\u001b[0m\u001b[0;34m,\u001b[0m\u001b[0;34m\u001b[0m\u001b[0;34m\u001b[0m\u001b[0m\n\u001b[0;32m--> 299\u001b[0;31m         parse_constant=parse_constant, object_pairs_hook=object_pairs_hook, **kw)\n\u001b[0m\u001b[1;32m    300\u001b[0m \u001b[0;34m\u001b[0m\u001b[0m\n\u001b[1;32m    301\u001b[0m \u001b[0;34m\u001b[0m\u001b[0m\n",
      "\u001b[0;32m/usr/lib/python3.6/json/__init__.py\u001b[0m in \u001b[0;36mloads\u001b[0;34m(s, encoding, cls, object_hook, parse_float, parse_int, parse_constant, object_pairs_hook, **kw)\u001b[0m\n\u001b[1;32m    352\u001b[0m             \u001b[0mparse_int\u001b[0m \u001b[0;32mis\u001b[0m \u001b[0;32mNone\u001b[0m \u001b[0;32mand\u001b[0m \u001b[0mparse_float\u001b[0m \u001b[0;32mis\u001b[0m \u001b[0;32mNone\u001b[0m \u001b[0;32mand\u001b[0m\u001b[0;34m\u001b[0m\u001b[0;34m\u001b[0m\u001b[0m\n\u001b[1;32m    353\u001b[0m             parse_constant is None and object_pairs_hook is None and not kw):\n\u001b[0;32m--> 354\u001b[0;31m         \u001b[0;32mreturn\u001b[0m \u001b[0m_default_decoder\u001b[0m\u001b[0;34m.\u001b[0m\u001b[0mdecode\u001b[0m\u001b[0;34m(\u001b[0m\u001b[0ms\u001b[0m\u001b[0;34m)\u001b[0m\u001b[0;34m\u001b[0m\u001b[0;34m\u001b[0m\u001b[0m\n\u001b[0m\u001b[1;32m    355\u001b[0m     \u001b[0;32mif\u001b[0m \u001b[0mcls\u001b[0m \u001b[0;32mis\u001b[0m \u001b[0;32mNone\u001b[0m\u001b[0;34m:\u001b[0m\u001b[0;34m\u001b[0m\u001b[0;34m\u001b[0m\u001b[0m\n\u001b[1;32m    356\u001b[0m         \u001b[0mcls\u001b[0m \u001b[0;34m=\u001b[0m \u001b[0mJSONDecoder\u001b[0m\u001b[0;34m\u001b[0m\u001b[0;34m\u001b[0m\u001b[0m\n",
      "\u001b[0;32m/usr/lib/python3.6/json/decoder.py\u001b[0m in \u001b[0;36mdecode\u001b[0;34m(self, s, _w)\u001b[0m\n\u001b[1;32m    337\u001b[0m \u001b[0;34m\u001b[0m\u001b[0m\n\u001b[1;32m    338\u001b[0m         \"\"\"\n\u001b[0;32m--> 339\u001b[0;31m         \u001b[0mobj\u001b[0m\u001b[0;34m,\u001b[0m \u001b[0mend\u001b[0m \u001b[0;34m=\u001b[0m \u001b[0mself\u001b[0m\u001b[0;34m.\u001b[0m\u001b[0mraw_decode\u001b[0m\u001b[0;34m(\u001b[0m\u001b[0ms\u001b[0m\u001b[0;34m,\u001b[0m \u001b[0midx\u001b[0m\u001b[0;34m=\u001b[0m\u001b[0m_w\u001b[0m\u001b[0;34m(\u001b[0m\u001b[0ms\u001b[0m\u001b[0;34m,\u001b[0m \u001b[0;36m0\u001b[0m\u001b[0;34m)\u001b[0m\u001b[0;34m.\u001b[0m\u001b[0mend\u001b[0m\u001b[0;34m(\u001b[0m\u001b[0;34m)\u001b[0m\u001b[0;34m)\u001b[0m\u001b[0;34m\u001b[0m\u001b[0;34m\u001b[0m\u001b[0m\n\u001b[0m\u001b[1;32m    340\u001b[0m         \u001b[0mend\u001b[0m \u001b[0;34m=\u001b[0m \u001b[0m_w\u001b[0m\u001b[0;34m(\u001b[0m\u001b[0ms\u001b[0m\u001b[0;34m,\u001b[0m \u001b[0mend\u001b[0m\u001b[0;34m)\u001b[0m\u001b[0;34m.\u001b[0m\u001b[0mend\u001b[0m\u001b[0;34m(\u001b[0m\u001b[0;34m)\u001b[0m\u001b[0;34m\u001b[0m\u001b[0;34m\u001b[0m\u001b[0m\n\u001b[1;32m    341\u001b[0m         \u001b[0;32mif\u001b[0m \u001b[0mend\u001b[0m \u001b[0;34m!=\u001b[0m \u001b[0mlen\u001b[0m\u001b[0;34m(\u001b[0m\u001b[0ms\u001b[0m\u001b[0;34m)\u001b[0m\u001b[0;34m:\u001b[0m\u001b[0;34m\u001b[0m\u001b[0;34m\u001b[0m\u001b[0m\n",
      "\u001b[0;32m/usr/lib/python3.6/json/decoder.py\u001b[0m in \u001b[0;36mraw_decode\u001b[0;34m(self, s, idx)\u001b[0m\n\u001b[1;32m    355\u001b[0m             \u001b[0mobj\u001b[0m\u001b[0;34m,\u001b[0m \u001b[0mend\u001b[0m \u001b[0;34m=\u001b[0m \u001b[0mself\u001b[0m\u001b[0;34m.\u001b[0m\u001b[0mscan_once\u001b[0m\u001b[0;34m(\u001b[0m\u001b[0ms\u001b[0m\u001b[0;34m,\u001b[0m \u001b[0midx\u001b[0m\u001b[0;34m)\u001b[0m\u001b[0;34m\u001b[0m\u001b[0;34m\u001b[0m\u001b[0m\n\u001b[1;32m    356\u001b[0m         \u001b[0;32mexcept\u001b[0m \u001b[0mStopIteration\u001b[0m \u001b[0;32mas\u001b[0m \u001b[0merr\u001b[0m\u001b[0;34m:\u001b[0m\u001b[0;34m\u001b[0m\u001b[0;34m\u001b[0m\u001b[0m\n\u001b[0;32m--> 357\u001b[0;31m             \u001b[0;32mraise\u001b[0m \u001b[0mJSONDecodeError\u001b[0m\u001b[0;34m(\u001b[0m\u001b[0;34m\"Expecting value\"\u001b[0m\u001b[0;34m,\u001b[0m \u001b[0ms\u001b[0m\u001b[0;34m,\u001b[0m \u001b[0merr\u001b[0m\u001b[0;34m.\u001b[0m\u001b[0mvalue\u001b[0m\u001b[0;34m)\u001b[0m \u001b[0;32mfrom\u001b[0m \u001b[0;32mNone\u001b[0m\u001b[0;34m\u001b[0m\u001b[0;34m\u001b[0m\u001b[0m\n\u001b[0m\u001b[1;32m    358\u001b[0m         \u001b[0;32mreturn\u001b[0m \u001b[0mobj\u001b[0m\u001b[0;34m,\u001b[0m \u001b[0mend\u001b[0m\u001b[0;34m\u001b[0m\u001b[0;34m\u001b[0m\u001b[0m\n",
      "\u001b[0;31mJSONDecodeError\u001b[0m: Expecting value: line 1 column 1 (char 0)"
     ]
    }
   ],
   "source": [
    "import pandas as pd\n",
    "import json\n",
    "r = json.load(open(\"./src/answer3.json\"))"
   ]
  },
  {
   "cell_type": "code",
   "execution_count": 204,
   "metadata": {},
   "outputs": [
    {
     "name": "stdout",
     "output_type": "stream",
     "text": [
      "[{'geometry': {'location': {'lat': 51.5073509, 'lng': -0.1277583}, 'viewport': {'northeast': {'lat': 51.6723432, 'lng': 0.148271}}}}]\n"
     ]
    }
   ],
   "source": [
    "x = [place for e in y for place in e] \n",
    "print(x)"
   ]
  },
  {
   "cell_type": "code",
   "execution_count": 197,
   "metadata": {},
   "outputs": [],
   "source": [
    "y =[[{'geometry': {'location': {'lat': 51.5073509, 'lng': -0.1277583},\n",
    "   'viewport': {'northeast': {'lat': 51.6723432, 'lng': 0.148271}}}}]]"
   ]
  },
  {
   "cell_type": "code",
   "execution_count": 167,
   "metadata": {},
   "outputs": [
    {
     "ename": "KeyError",
     "evalue": "'next_page_toke'",
     "output_type": "error",
     "traceback": [
      "\u001b[0;31m--------------------------------------------------------------------------\u001b[0m",
      "\u001b[0;31mKeyError\u001b[0m                                 Traceback (most recent call last)",
      "\u001b[0;32m<ipython-input-167-974ffd5736a6>\u001b[0m in \u001b[0;36m<module>\u001b[0;34m\u001b[0m\n\u001b[0;32m----> 1\u001b[0;31m \u001b[0;32mif\u001b[0m \u001b[0manswer\u001b[0m\u001b[0;34m[\u001b[0m\u001b[0;34m'next_page_toke'\u001b[0m\u001b[0;34m]\u001b[0m\u001b[0;34m:\u001b[0m\u001b[0;34m\u001b[0m\u001b[0;34m\u001b[0m\u001b[0m\n\u001b[0m\u001b[1;32m      2\u001b[0m     \u001b[0mprint\u001b[0m\u001b[0;34m(\u001b[0m\u001b[0;34m'yes'\u001b[0m\u001b[0;34m)\u001b[0m\u001b[0;34m\u001b[0m\u001b[0;34m\u001b[0m\u001b[0m\n\u001b[1;32m      3\u001b[0m \u001b[0;32melse\u001b[0m\u001b[0;34m:\u001b[0m\u001b[0;34m\u001b[0m\u001b[0;34m\u001b[0m\u001b[0m\n\u001b[1;32m      4\u001b[0m     \u001b[0mprint\u001b[0m\u001b[0;34m(\u001b[0m\u001b[0;34m'no'\u001b[0m\u001b[0;34m)\u001b[0m\u001b[0;34m\u001b[0m\u001b[0;34m\u001b[0m\u001b[0m\n",
      "\u001b[0;31mKeyError\u001b[0m: 'next_page_toke'"
     ]
    }
   ],
   "source": [
    "while r['next_page_token']:\n",
    "    params['next_page_token'] = answer['next_page_token']\n",
    "    requests.get(url, params=params)"
   ]
  }
 ],
 "metadata": {
  "kernelspec": {
   "display_name": "Python 3",
   "language": "python",
   "name": "python3"
  },
  "language_info": {
   "codemirror_mode": {
    "name": "ipython",
    "version": 3
   },
   "file_extension": ".py",
   "mimetype": "text/x-python",
   "name": "python",
   "nbconvert_exporter": "python",
   "pygments_lexer": "ipython3",
   "version": "3.6.8"
  }
 },
 "nbformat": 4,
 "nbformat_minor": 2
}
