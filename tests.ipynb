{
 "cells": [
  {
   "cell_type": "code",
   "execution_count": 136,
   "metadata": {},
   "outputs": [],
   "source": [
    "from pymongo import MongoClient\n",
    "def connectCollection(database, collection):\n",
    "    client = MongoClient()\n",
    "    db = client[database]\n",
    "    coll = db[collection]\n",
    "    return db, coll\n",
    "db, coll = connectCollection('companies','companies')\n",
    "gbr_comps = list(coll.find({\"$and\" : [{\"offices.country_code\":\"GBR\"}, {\"founded_year\": {\"$gt\": 2009}}, {\"deadpooled_year\" : {\"$eq\": None}}, {\"total_money_raised\" : {\"$gte\" :\"$1M\"}} ]}))"
   ]
  },
  {
   "cell_type": "code",
   "execution_count": 137,
   "metadata": {},
   "outputs": [
    {
     "data": {
      "text/plain": [
       "[{'_id': ObjectId('52cdef7d4bab8bd675298970'),\n",
       "  'name': 'Pixsta',\n",
       "  'permalink': 'pixsta',\n",
       "  'crunchbase_url': 'http://www.crunchbase.com/company/pixsta',\n",
       "  'homepage_url': 'http://www.empora.com',\n",
       "  'blog_url': 'http://pixsta.blogspot.com',\n",
       "  'blog_feed_url': '',\n",
       "  'twitter_username': 'stevedukes',\n",
       "  'category_code': 'web',\n",
       "  'number_of_employees': None,\n",
       "  'founded_year': 2010,\n",
       "  'founded_month': None,\n",
       "  'founded_day': None,\n",
       "  'deadpooled_year': None,\n",
       "  'deadpooled_month': None,\n",
       "  'deadpooled_day': None,\n",
       "  'deadpooled_url': None,\n",
       "  'tag_list': '',\n",
       "  'alias_list': '',\n",
       "  'email_address': 'info@pixsta.com',\n",
       "  'phone_number': '+442071835013',\n",
       "  'description': 'Visual Search for ecommerce',\n",
       "  'created_at': 'Fri May 02 07:25:47 UTC 2008',\n",
       "  'updated_at': 'Fri Mar 22 06:31:53 UTC 2013',\n",
       "  'overview': '<p><a href=\"http://www.empora.com\" title=\"Pixsta\" rel=\"nofollow\">Pixsta</a> is a Visual Search engine for ecommerce. </p>\\n\\n<p>Pixsta&#8217;s technology enables the navigation and contextual display of similar product images in &#8220;visual&#8221; categories such as clothing, footwear and accessories. </p>\\n\\n<p>Pixsta draws on techniques from the fields of machine learning, image processing and computer vision. Instead of relying on text-based tags that may or may not have been added to the images, Pixsta looks to understand the image at a pixel level, extracting colour, shape and texture properties. This information is used to help users query and navigate more efficiently through large collections of images. </p>\\n\\n<p>Pixsta&#8217;s Visual Search can be seen implemented within its owned and operated website <a href=\"http://www.empora.com\" title=\"Empora.com\" rel=\"nofollow\">Empora.com</a>, a unique shopping service that allows users to shop for clothes and accessories by style and colour from over a 1,000 brands and retailers. </p>',\n",
       "  'image': {'available_sizes': [[[150, 136],\n",
       "     'assets/images/resized/0001/7948/17948v3-max-150x150.jpg'],\n",
       "    [[250, 227], 'assets/images/resized/0001/7948/17948v3-max-250x250.jpg'],\n",
       "    [[450, 410], 'assets/images/resized/0001/7948/17948v3-max-450x450.jpg']],\n",
       "   'attribution': None},\n",
       "  'products': [{'name': 'Empora.com', 'permalink': 'pixsta'}],\n",
       "  'relationships': [{'is_past': False,\n",
       "    'title': 'Chairman and Co-Founder',\n",
       "    'person': {'first_name': 'Alexander',\n",
       "     'last_name': 'Straub',\n",
       "     'permalink': 'alexander-straub'}},\n",
       "   {'is_past': False,\n",
       "    'title': 'Director, Operations and Co-founder',\n",
       "    'person': {'first_name': 'David',\n",
       "     'last_name': 'Williams',\n",
       "     'permalink': 'david-williams-2'}},\n",
       "   {'is_past': False,\n",
       "    'title': '',\n",
       "    'person': {'first_name': 'Tim',\n",
       "     'last_name': 'Stracke',\n",
       "     'permalink': 'tim-stracke'}},\n",
       "   {'is_past': False,\n",
       "    'title': 'Commercial Director',\n",
       "    'person': {'first_name': 'Steve',\n",
       "     'last_name': 'Dukes',\n",
       "     'permalink': 'steve-dukes'}},\n",
       "   {'is_past': True,\n",
       "    'title': 'Technical Director and Co-founder',\n",
       "    'person': {'first_name': 'Daniel',\n",
       "     'last_name': 'Heesch',\n",
       "     'permalink': 'daniel-heesch'}},\n",
       "   {'is_past': True,\n",
       "    'title': 'CEO',\n",
       "    'person': {'first_name': 'Liam',\n",
       "     'last_name': 'Carroll',\n",
       "     'permalink': 'liam-carroll'}}],\n",
       "  'competitions': [{'competitor': {'name': 'Google', 'permalink': 'google'}},\n",
       "   {'competitor': {'name': 'ShopStyle', 'permalink': 'shopstyle'}}],\n",
       "  'providerships': [],\n",
       "  'total_money_raised': '£3M',\n",
       "  'funding_rounds': [{'id': 2276,\n",
       "    'round_code': 'seed',\n",
       "    'source_url': 'http://www.edenventures.co.uk/portfolio.html#pixsta',\n",
       "    'source_description': 'Eden Ventures',\n",
       "    'raised_amount': None,\n",
       "    'raised_currency_code': None,\n",
       "    'funded_year': 2007,\n",
       "    'funded_month': None,\n",
       "    'funded_day': None,\n",
       "    'investments': [{'company': None,\n",
       "      'financial_org': {'name': 'Straub Ventures',\n",
       "       'permalink': 'straub-ventures'},\n",
       "      'person': None}]},\n",
       "   {'id': 2277,\n",
       "    'round_code': 'a',\n",
       "    'source_url': 'http://www.edenventures.co.uk/portfolio.html#pixsta',\n",
       "    'source_description': 'Eden Ventures',\n",
       "    'raised_amount': 3000000,\n",
       "    'raised_currency_code': 'GBP',\n",
       "    'funded_year': 2008,\n",
       "    'funded_month': 6,\n",
       "    'funded_day': 14,\n",
       "    'investments': [{'company': None,\n",
       "      'financial_org': {'name': 'Eden Ventures', 'permalink': 'eden-ventures'},\n",
       "      'person': None}]}],\n",
       "  'investments': [],\n",
       "  'acquisition': None,\n",
       "  'acquisitions': [],\n",
       "  'offices': [{'description': None,\n",
       "    'address1': '9 Thorpe Close',\n",
       "    'address2': 'Portobello Rd',\n",
       "    'zip_code': 'W10 5XL',\n",
       "    'city': 'London',\n",
       "    'state_code': None,\n",
       "    'country_code': 'GBR',\n",
       "    'latitude': 51.51819,\n",
       "    'longitude': -0.208979}],\n",
       "  'milestones': [],\n",
       "  'ipo': None,\n",
       "  'video_embeds': [],\n",
       "  'screenshots': [],\n",
       "  'external_links': [],\n",
       "  'partners': [],\n",
       "  'coordinates': [-0.208979, 51.51819],\n",
       "  'type': 'Point',\n",
       "  'location': {'type': 'Point', 'coordinates': [-0.208979, 51.51819]}},\n",
       " {'_id': ObjectId('52cdef7e4bab8bd67529b8f7'),\n",
       "  'name': 'Insignia Technologies',\n",
       "  'permalink': 'insignia-technologies',\n",
       "  'crunchbase_url': 'http://www.crunchbase.com/company/insignia-technologies',\n",
       "  'homepage_url': 'http://www.insigniatechnologies.com',\n",
       "  'blog_url': '',\n",
       "  'blog_feed_url': '',\n",
       "  'twitter_username': 'InsigniaTechLtd',\n",
       "  'category_code': 'hospitality',\n",
       "  'number_of_employees': None,\n",
       "  'founded_year': 2012,\n",
       "  'founded_month': None,\n",
       "  'founded_day': None,\n",
       "  'deadpooled_year': None,\n",
       "  'deadpooled_month': None,\n",
       "  'deadpooled_day': None,\n",
       "  'deadpooled_url': None,\n",
       "  'tag_list': None,\n",
       "  'alias_list': '',\n",
       "  'email_address': '',\n",
       "  'phone_number': '01698 539 732',\n",
       "  'description': '',\n",
       "  'created_at': 'Wed Apr 29 00:12:40 UTC 2009',\n",
       "  'updated_at': 'Sat Nov 23 05:15:21 UTC 2013',\n",
       "  'overview': '<p>Insignia Technologies Ltd is an innovative business developing a range of sensing technologies. The initial products are a range of smart pigments and inks which can change colour when exposed to a variety of gases or UV light. The main focus of our initial products is in the food packaging industry, whereby the colour changing indicators can warn when food is past its best by undergoing a dramatic and distinct colour change. The patented smart pigments can be easily incorporated into plastic food packaging, creating colour changing plastic film which will help minimise food wastage and ensure consumers know when food is fit for consumption. We are also developing an exciting range of UV, oxygen, volatiles, and humidity indicators for a variety of applications.</p>',\n",
       "  'image': {'available_sizes': [[[150, 112],\n",
       "     'assets/images/resized/0035/0778/350778v1-max-150x150.png'],\n",
       "    [[174, 131], 'assets/images/resized/0035/0778/350778v1-max-250x250.png'],\n",
       "    [[174, 131], 'assets/images/resized/0035/0778/350778v1-max-450x450.png']],\n",
       "   'attribution': None},\n",
       "  'products': [],\n",
       "  'relationships': [{'is_past': False,\n",
       "    'title': 'Executive Chairman',\n",
       "    'person': {'first_name': 'David',\n",
       "     'last_name': 'Kilshaw',\n",
       "     'permalink': 'david-kilshaw'}},\n",
       "   {'is_past': True,\n",
       "    'title': 'EVP Operations',\n",
       "    'person': {'first_name': 'Peter',\n",
       "     'last_name': 'Baldwin',\n",
       "     'permalink': 'peter-baldwin'}}],\n",
       "  'competitions': [],\n",
       "  'providerships': [],\n",
       "  'total_money_raised': '£865k',\n",
       "  'funding_rounds': [{'id': 53230,\n",
       "    'round_code': 'seed',\n",
       "    'source_url': 'http://www.heraldscotland.com/business/company-news/insignia-secures-865000-food-labels-investment.22549889',\n",
       "    'source_description': 'Insignia secures £865,000 food labels investment',\n",
       "    'raised_amount': 865000,\n",
       "    'raised_currency_code': 'GBP',\n",
       "    'funded_year': 2013,\n",
       "    'funded_month': 10,\n",
       "    'funded_day': 30,\n",
       "    'investments': [{'company': None,\n",
       "      'financial_org': {'name': 'Equity Gap', 'permalink': 'equity-gap'},\n",
       "      'person': None},\n",
       "     {'company': None,\n",
       "      'financial_org': {'name': 'Highland Capital Partners',\n",
       "       'permalink': 'highland-capital-partners'},\n",
       "      'person': None},\n",
       "     {'company': None,\n",
       "      'financial_org': {'name': 'Scottish Investment Bank',\n",
       "       'permalink': 'scottish-investment-bank'},\n",
       "      'person': None},\n",
       "     {'company': None,\n",
       "      'financial_org': {'name': 'University of Strathclyde',\n",
       "       'permalink': 'university-of-strathclyde'},\n",
       "      'person': None}]}],\n",
       "  'investments': [],\n",
       "  'acquisition': None,\n",
       "  'acquisitions': [],\n",
       "  'offices': [{'description': '',\n",
       "    'address1': '',\n",
       "    'address2': \"Bo'ness Road Newhouse\",\n",
       "    'zip_code': 'ML1 5UH',\n",
       "    'city': 'North Lanarkshire',\n",
       "    'state_code': None,\n",
       "    'country_code': 'GBR',\n",
       "    'latitude': None,\n",
       "    'longitude': None}],\n",
       "  'milestones': [],\n",
       "  'ipo': None,\n",
       "  'video_embeds': [],\n",
       "  'screenshots': [{'available_sizes': [[[150, 67],\n",
       "      'assets/images/resized/0035/0779/350779v1-max-150x150.png'],\n",
       "     [[250, 113], 'assets/images/resized/0035/0779/350779v1-max-250x250.png'],\n",
       "     [[450, 203], 'assets/images/resized/0035/0779/350779v1-max-450x450.png']],\n",
       "    'attribution': None}],\n",
       "  'external_links': [],\n",
       "  'partners': []}]"
      ]
     },
     "execution_count": 137,
     "metadata": {},
     "output_type": "execute_result"
    }
   ],
   "source": [
    "gbr_comps"
   ]
  },
  {
   "cell_type": "code",
   "execution_count": 143,
   "metadata": {},
   "outputs": [
    {
     "ename": "SyntaxError",
     "evalue": "invalid syntax (<ipython-input-143-56bfa7e3677b>, line 14)",
     "output_type": "error",
     "traceback": [
      "\u001b[0;36m  File \u001b[0;32m\"<ipython-input-143-56bfa7e3677b>\"\u001b[0;36m, line \u001b[0;32m14\u001b[0m\n\u001b[0;31m    coords.append(loc)\u001b[0m\n\u001b[0m         ^\u001b[0m\n\u001b[0;31mSyntaxError\u001b[0m\u001b[0;31m:\u001b[0m invalid syntax\n"
     ]
    }
   ],
   "source": [
    "coords = []\n",
    "comps = gbr_comps\n",
    "for e in comps:\n",
    "    for office in e['offices']:\n",
    "        latitude = office['latitude']\n",
    "        longitude = office['longitude']\n",
    "        coords.append((latitude,longitude))\n",
    "        if latitude == True and longitude == True:\n",
    "            loc = {\n",
    "                e['name'] :  {\n",
    "                    \"longitude\" : float(longitude),\n",
    "                    \"latitude\" : float(latitude)\n",
    "                }\n",
    "            coords.append(loc) \n",
    "\n",
    "#coll.update_one({\"offices\": {\"$elemMatch\" : {\"address1\" : office[\"address1\"] } } }, {\"$push\" : {\"offices.$.location\" : loc} })\n"
   ]
  },
  {
   "cell_type": "markdown",
   "metadata": {},
   "source": [
    "### ------------"
   ]
  },
  {
   "cell_type": "code",
   "execution_count": 129,
   "metadata": {},
   "outputs": [
    {
     "data": {
      "text/plain": [
       "{}"
      ]
     },
     "execution_count": 129,
     "metadata": {},
     "output_type": "execute_result"
    }
   ],
   "source": [
    "loc"
   ]
  },
  {
   "cell_type": "code",
   "execution_count": 111,
   "metadata": {},
   "outputs": [],
   "source": [
    "\n",
    "def getCoordsFor(loc):\n",
    "    url = f\"https://geocode.xyz/{loc}?geoit=JSON\"\n",
    "    res = requests.get(url)\n",
    "    if res.status_code == 200:\n",
    "        print(res.url)\n",
    "        data = res.json()\n",
    "        return (data.get(\"latt\",0), data.get(\"longt\",0))\n",
    "    else:\n",
    "        raise ValueError(f\"Api returned {res.status_code}!=200\")"
   ]
  },
  {
   "cell_type": "code",
   "execution_count": 112,
   "metadata": {},
   "outputs": [
    {
     "name": "stdout",
     "output_type": "stream",
     "text": [
      "https://geocode.xyz/(51.51819,%20-0.208979)?geoit=JSON\n"
     ]
    },
    {
     "data": {
      "text/plain": [
       "('0.00000', '0.00000')"
      ]
     },
     "execution_count": 112,
     "metadata": {},
     "output_type": "execute_result"
    }
   ],
   "source": [
    "getCoordsFor(coords[0])"
   ]
  },
  {
   "cell_type": "code",
   "execution_count": 106,
   "metadata": {},
   "outputs": [],
   "source": [
    "import requests\n",
    "import folium\n",
    "\n",
    "# TODO: Center the map with the midde point of all coordinates\n",
    "# https://fiona.readthedocs.io/en/latest/manual.html\n",
    "def plotCoords(lat, long):\n",
    "    marker_coords = []\n",
    "    marker_coords.append(getCoordsFor(lat, long)) \n",
    "    m = folium.Map()\n",
    "    folium.Marker(lat, long).add_to(m)\n",
    "    return m"
   ]
  },
  {
   "cell_type": "code",
   "execution_count": 109,
   "metadata": {},
   "outputs": [
    {
     "name": "stdout",
     "output_type": "stream",
     "text": [
      "https://geocode.xyz/51.51819,-0.208979?geoit=JSON\n"
     ]
    },
    {
     "ename": "TypeError",
     "evalue": "Location should be a sized variable, for example a list or a tuple, instead got 51.51819 of type <class 'float'>.",
     "output_type": "error",
     "traceback": [
      "\u001b[0;31m---------------------------------------------------------------------------\u001b[0m",
      "\u001b[0;31mTypeError\u001b[0m                                 Traceback (most recent call last)",
      "\u001b[0;32m<ipython-input-109-032f1cd796a3>\u001b[0m in \u001b[0;36m<module>\u001b[0;34m\u001b[0m\n\u001b[0;32m----> 1\u001b[0;31m \u001b[0mplotCoords\u001b[0m\u001b[0;34m(\u001b[0m\u001b[0mcoords\u001b[0m\u001b[0;34m[\u001b[0m\u001b[0;36m0\u001b[0m\u001b[0;34m]\u001b[0m\u001b[0;34m[\u001b[0m\u001b[0;36m0\u001b[0m\u001b[0;34m]\u001b[0m\u001b[0;34m,\u001b[0m \u001b[0mcoords\u001b[0m\u001b[0;34m[\u001b[0m\u001b[0;36m0\u001b[0m\u001b[0;34m]\u001b[0m\u001b[0;34m[\u001b[0m\u001b[0;36m1\u001b[0m\u001b[0;34m]\u001b[0m\u001b[0;34m)\u001b[0m\u001b[0;34m\u001b[0m\u001b[0;34m\u001b[0m\u001b[0m\n\u001b[0m",
      "\u001b[0;32m<ipython-input-106-38d051a885cf>\u001b[0m in \u001b[0;36mplotCoords\u001b[0;34m(lat, long)\u001b[0m\n\u001b[1;32m      8\u001b[0m     \u001b[0mmarker_coords\u001b[0m\u001b[0;34m.\u001b[0m\u001b[0mappend\u001b[0m\u001b[0;34m(\u001b[0m\u001b[0mgetCoordsFor\u001b[0m\u001b[0;34m(\u001b[0m\u001b[0mlat\u001b[0m\u001b[0;34m,\u001b[0m \u001b[0mlong\u001b[0m\u001b[0;34m)\u001b[0m\u001b[0;34m)\u001b[0m\u001b[0;34m\u001b[0m\u001b[0;34m\u001b[0m\u001b[0m\n\u001b[1;32m      9\u001b[0m     \u001b[0mm\u001b[0m \u001b[0;34m=\u001b[0m \u001b[0mfolium\u001b[0m\u001b[0;34m.\u001b[0m\u001b[0mMap\u001b[0m\u001b[0;34m(\u001b[0m\u001b[0;34m)\u001b[0m\u001b[0;34m\u001b[0m\u001b[0;34m\u001b[0m\u001b[0m\n\u001b[0;32m---> 10\u001b[0;31m     \u001b[0mfolium\u001b[0m\u001b[0;34m.\u001b[0m\u001b[0mMarker\u001b[0m\u001b[0;34m(\u001b[0m\u001b[0mlat\u001b[0m\u001b[0;34m,\u001b[0m \u001b[0mlong\u001b[0m\u001b[0;34m)\u001b[0m\u001b[0;34m.\u001b[0m\u001b[0madd_to\u001b[0m\u001b[0;34m(\u001b[0m\u001b[0mm\u001b[0m\u001b[0;34m)\u001b[0m\u001b[0;34m\u001b[0m\u001b[0;34m\u001b[0m\u001b[0m\n\u001b[0m\u001b[1;32m     11\u001b[0m     \u001b[0;32mreturn\u001b[0m \u001b[0mm\u001b[0m\u001b[0;34m\u001b[0m\u001b[0;34m\u001b[0m\u001b[0m\n",
      "\u001b[0;32m~/.local/lib/python3.6/site-packages/folium/map.py\u001b[0m in \u001b[0;36m__init__\u001b[0;34m(self, location, popup, tooltip, icon, draggable, **kwargs)\u001b[0m\n\u001b[1;32m    275\u001b[0m         \u001b[0msuper\u001b[0m\u001b[0;34m(\u001b[0m\u001b[0mMarker\u001b[0m\u001b[0;34m,\u001b[0m \u001b[0mself\u001b[0m\u001b[0;34m)\u001b[0m\u001b[0;34m.\u001b[0m\u001b[0m__init__\u001b[0m\u001b[0;34m(\u001b[0m\u001b[0;34m)\u001b[0m\u001b[0;34m\u001b[0m\u001b[0;34m\u001b[0m\u001b[0m\n\u001b[1;32m    276\u001b[0m         \u001b[0mself\u001b[0m\u001b[0;34m.\u001b[0m\u001b[0m_name\u001b[0m \u001b[0;34m=\u001b[0m \u001b[0;34m'Marker'\u001b[0m\u001b[0;34m\u001b[0m\u001b[0;34m\u001b[0m\u001b[0m\n\u001b[0;32m--> 277\u001b[0;31m         \u001b[0mself\u001b[0m\u001b[0;34m.\u001b[0m\u001b[0mlocation\u001b[0m \u001b[0;34m=\u001b[0m \u001b[0mvalidate_location\u001b[0m\u001b[0;34m(\u001b[0m\u001b[0mlocation\u001b[0m\u001b[0;34m)\u001b[0m\u001b[0;34m\u001b[0m\u001b[0;34m\u001b[0m\u001b[0m\n\u001b[0m\u001b[1;32m    278\u001b[0m         self.options = parse_options(\n\u001b[1;32m    279\u001b[0m             \u001b[0mdraggable\u001b[0m\u001b[0;34m=\u001b[0m\u001b[0mdraggable\u001b[0m \u001b[0;32mor\u001b[0m \u001b[0;32mNone\u001b[0m\u001b[0;34m,\u001b[0m\u001b[0;34m\u001b[0m\u001b[0;34m\u001b[0m\u001b[0m\n",
      "\u001b[0;32m~/.local/lib/python3.6/site-packages/folium/utilities.py\u001b[0m in \u001b[0;36mvalidate_location\u001b[0;34m(location)\u001b[0m\n\u001b[1;32m     45\u001b[0m         raise TypeError('Location should be a sized variable, '\n\u001b[1;32m     46\u001b[0m                         \u001b[0;34m'for example a list or a tuple, instead got '\u001b[0m\u001b[0;34m\u001b[0m\u001b[0;34m\u001b[0m\u001b[0m\n\u001b[0;32m---> 47\u001b[0;31m                         '{!r} of type {}.'.format(location, type(location)))\n\u001b[0m\u001b[1;32m     48\u001b[0m     \u001b[0;32mif\u001b[0m \u001b[0mlen\u001b[0m\u001b[0;34m(\u001b[0m\u001b[0mlocation\u001b[0m\u001b[0;34m)\u001b[0m \u001b[0;34m!=\u001b[0m \u001b[0;36m2\u001b[0m\u001b[0;34m:\u001b[0m\u001b[0;34m\u001b[0m\u001b[0;34m\u001b[0m\u001b[0m\n\u001b[1;32m     49\u001b[0m         raise ValueError('Expected two (lat, lon) values for location, '\n",
      "\u001b[0;31mTypeError\u001b[0m: Location should be a sized variable, for example a list or a tuple, instead got 51.51819 of type <class 'float'>."
     ]
    }
   ],
   "source": [
    "plotCoords((coords[0][0], coords[0][1]))"
   ]
  }
 ],
 "metadata": {
  "kernelspec": {
   "display_name": "Python 3",
   "language": "python",
   "name": "python3"
  },
  "language_info": {
   "codemirror_mode": {
    "name": "ipython",
    "version": 3
   },
   "file_extension": ".py",
   "mimetype": "text/x-python",
   "name": "python",
   "nbconvert_exporter": "python",
   "pygments_lexer": "ipython3",
   "version": "3.6.8"
  }
 },
 "nbformat": 4,
 "nbformat_minor": 2
}
